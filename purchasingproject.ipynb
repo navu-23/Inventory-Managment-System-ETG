{
  "nbformat": 4,
  "nbformat_minor": 0,
  "metadata": {
    "colab": {
      "name": "purchasingproject.ipynb",
      "provenance": [],
      "collapsed_sections": []
    },
    "kernelspec": {
      "display_name": "Python 3",
      "name": "python3"
    },
    "language_info": {
      "name": "python"
    }
  },
  "cells": [
    {
      "cell_type": "code",
      "metadata": {
        "id": "AkAr4G7D2rnF"
      },
      "source": [
        "import json\n",
        "\n",
        "fd = open(\"record.json\",'r')\n",
        "r = fd.read()\n",
        "fd.close()\n",
        "\n"
      ],
      "execution_count": 191,
      "outputs": []
    },
    {
      "cell_type": "markdown",
      "metadata": {
        "id": "cXxRuZ3JsvHH"
      },
      "source": [
        ""
      ]
    },
    {
      "cell_type": "code",
      "metadata": {
        "id": "4U6YnAxdBai1"
      },
      "source": [
        "records = json.loads(r)"
      ],
      "execution_count": 193,
      "outputs": []
    },
    {
      "cell_type": "code",
      "metadata": {
        "colab": {
          "base_uri": "https://localhost:8080/"
        },
        "id": "lGhXTwbYBdBN",
        "outputId": "a2d3e383-492b-4208-e26c-461ba6a58ee2"
      },
      "source": [
        "records"
      ],
      "execution_count": 194,
      "outputs": [
        {
          "output_type": "execute_result",
          "data": {
            "text/plain": [
              "{'100': {'available_quantity': 100,\n",
              "  'category': 'softdrink',\n",
              "  'expiry_year': 2025,\n",
              "  'name': 'Coke',\n",
              "  'price': 40},\n",
              " '101': {'available_quantity': 100,\n",
              "  'category': 'softdrink',\n",
              "  'expiry_year': 2024,\n",
              "  'name': 'pepsi',\n",
              "  'price': 38},\n",
              " '102': {'available_quantity': 100,\n",
              "  'category': 'softdrink',\n",
              "  'expiry_year': 2025,\n",
              "  'name': 'thumsup',\n",
              "  'price': 40},\n",
              " '103': {'available_quantity': 98,\n",
              "  'category': 'softdrink',\n",
              "  'expiry_year': 2025,\n",
              "  'name': 'fanta',\n",
              "  'price': 38},\n",
              " '104': {'available_quantity': 95,\n",
              "  'category': 'softdrink',\n",
              "  'expiry_year': 2024,\n",
              "  'name': 'marinda',\n",
              "  'price': 37},\n",
              " '105': {'available_quantity': 100,\n",
              "  'category': 'softdrink',\n",
              "  'expiry_year': 2025,\n",
              "  'name': 'sprite',\n",
              "  'price': 40},\n",
              " '106': {'available_quantity': 100,\n",
              "  'category': 'softdrink',\n",
              "  'expiry_year': 2025,\n",
              "  'name': 'limca',\n",
              "  'price': 38},\n",
              " '107': {'available_quantity': 150,\n",
              "  'category': 'chocolate',\n",
              "  'expiry_year': 2026,\n",
              "  'name': 'Dairymilk_silk',\n",
              "  'price': 80},\n",
              " '108': {'available_quantity': 120,\n",
              "  'category': 'chocolate',\n",
              "  'expiry_year': 2026,\n",
              "  'name': 'Dairymilk_fruitandnut',\n",
              "  'price': 40},\n",
              " '109': {'available_quantity': 120,\n",
              "  'category': 'chocolate',\n",
              "  'expiry_year': 2026,\n",
              "  'name': 'Dairymilk_crackel',\n",
              "  'price': 50},\n",
              " '110': {'available_quantity': 150,\n",
              "  'category': 'chocolate',\n",
              "  'expiry_year': 2026,\n",
              "  'name': 'Dairymilk_bubbly',\n",
              "  'price': 80},\n",
              " '111': {'available_quantity': 150,\n",
              "  'category': 'chocolate',\n",
              "  'expiry_year': 2025,\n",
              "  'name': 'Mars',\n",
              "  'price': 80},\n",
              " '112': {'available_quantity': 110,\n",
              "  'category': 'chocolate',\n",
              "  'expiry_year': 2026,\n",
              "  'name': 'bounty',\n",
              "  'price': 90},\n",
              " '113': {'available_quantity': 150,\n",
              "  'category': 'chocolate',\n",
              "  'expiry_year': 2026,\n",
              "  'name': '5star',\n",
              "  'price': 30},\n",
              " '114': {'available_quantity': 150,\n",
              "  'category': 'chocolate',\n",
              "  'expiry_year': 2026,\n",
              "  'name': 'kitkat',\n",
              "  'price': 40},\n",
              " '115': {'available_quantity': 100,\n",
              "  'category': 'chocolate',\n",
              "  'expiry_year': 2026,\n",
              "  'name': 'lindt',\n",
              "  'price': 90},\n",
              " '116': {'available_quantity': 200,\n",
              "  'category': 'chips',\n",
              "  'expiry_year': 2026,\n",
              "  'name': 'lays',\n",
              "  'price': 30},\n",
              " '117': {'available_quantity': 200,\n",
              "  'category': 'chips',\n",
              "  'expiry_year': 2026,\n",
              "  'name': 'uncle_chips',\n",
              "  'price': 30},\n",
              " '118': {'available_quantity': 150,\n",
              "  'category': 'chips',\n",
              "  'expiry_year': 2025,\n",
              "  'name': 'pringle',\n",
              "  'price': 100},\n",
              " '119': {'available_quantity': 150,\n",
              "  'category': 'chips',\n",
              "  'expiry_year': 2025,\n",
              "  'name': 'too_yum',\n",
              "  'price': 20},\n",
              " '120': {'available_quantity': 180,\n",
              "  'category': 'chips',\n",
              "  'expiry_year': 2026,\n",
              "  'name': 'haldirams_chips',\n",
              "  'price': 50},\n",
              " '121': {'available_quantity': 200,\n",
              "  'category': 'soap',\n",
              "  'expiry_year': 2030,\n",
              "  'name': 'dove',\n",
              "  'price': 30},\n",
              " '122': {'available_quantity': 200,\n",
              "  'category': 'soap',\n",
              "  'expiry_year': 2030,\n",
              "  'name': 'lux',\n",
              "  'price': 25},\n",
              " '123': {'available_quantity': 200,\n",
              "  'category': 'soap',\n",
              "  'expiry_year': 2028,\n",
              "  'name': 'joy',\n",
              "  'price': 25},\n",
              " '124': {'available_quantity': 180,\n",
              "  'category': 'soap',\n",
              "  'expiry_year': 2028,\n",
              "  'name': 'nirma',\n",
              "  'price': 25},\n",
              " '125': {'available_quantity': 200,\n",
              "  'category': 'coffee',\n",
              "  'expiry_year': 2030,\n",
              "  'name': 'bru',\n",
              "  'price': 90},\n",
              " '126': {'available_quantity': 200,\n",
              "  'category': 'coffee',\n",
              "  'expiry_year': 2030,\n",
              "  'name': 'nescafe',\n",
              "  'price': 100},\n",
              " '127': {'available_quantity': 150,\n",
              "  'category': 'coffee',\n",
              "  'expiry_year': 2030,\n",
              "  'name': 'bru_gold',\n",
              "  'price': 150},\n",
              " '128': {'available_quantity': 100,\n",
              "  'category': 'coffee',\n",
              "  'expiry_year': 2030,\n",
              "  'name': 'davidoff',\n",
              "  'price': 200},\n",
              " '129': {'available_quantity': 120,\n",
              "  'category': 'coffee',\n",
              "  'expiry_year': 2030,\n",
              "  'name': 'countrybean',\n",
              "  'price': 140},\n",
              " '130': {'available_quantity': 150,\n",
              "  'category': 'coffee',\n",
              "  'expiry_year': 2030,\n",
              "  'name': 'nescafe_gold',\n",
              "  'price': 200},\n",
              " '131': {'available_quantity': 100,\n",
              "  'category': 'coffee',\n",
              "  'expiry_year': 2030,\n",
              "  'name': 'starbucks_houseblend',\n",
              "  'price': 300}}"
            ]
          },
          "metadata": {},
          "execution_count": 194
        }
      ]
    },
    {
      "cell_type": "markdown",
      "metadata": {
        "id": "HjErWgYIDLJ0"
      },
      "source": [
        "##purchase\n"
      ]
    },
    {
      "cell_type": "code",
      "metadata": {
        "id": "pIzmtSI_Cvi1",
        "colab": {
          "base_uri": "https://localhost:8080/"
        },
        "outputId": "a036dee1-edfa-471f-b9d6-e8a53ecf22f7"
      },
      "source": [
        "ui_id= (input(\"Enter the product id:    \"))\n",
        "ui_quantity = int(input(\"Enter the quantity you want to buy:       \"))\n",
        "\n",
        "if ui_quantity > records[ui_id]['available_quantity']:\n",
        "  print(\"** ONLY\" , records[ui_id]['available_quantity'], \"ARE AVAILABLE **\")\n",
        "else:\n",
        "  print(\"***************************\")\n",
        "  print(\"product:\" , records[ui_id]['name'])\n",
        "  print(\"quantity bought\" , ui_quantity)\n",
        "  print(\"Price:\", records[ui_id]['price'])\n",
        "  print(\"Category:\" ,records[ui_id]['category'])\n",
        "  print(\"Available Quantity:\", records[ui_id]['available_quantity'])\n",
        "  print(\"Expiry year:\" ,records[ui_id]['expiry_year'])\n",
        "  print(\"****************************\")\n",
        "  print(\"BILLING AMOUNT:\", records[ui_id]['price']*ui_quantity , \"Rupees\")\n",
        "  print(\"****************************\")\n",
        "  records[ui_id]['available_quantity'] = records[ui_id]['available_quantity'] - ui_quantity\n",
        "\n",
        "#UPDATE INVENTORY\n",
        "\n",
        "js = json.dumps(records)\n",
        "\n",
        "fd = open(\"record.json\",'w')\n",
        "fd.write(js)\n",
        "fd.close()\n",
        "\n",
        "#SALES \n",
        "\n",
        "import json\n",
        "\n",
        "sl = json.dumps(records)\n",
        "\n",
        "sd = open(\"sales.json\" , 'w')\n",
        "sd.write(sl)\n",
        "sd.close()\n",
        "\n",
        "import time\n",
        "t = time.ctime()\n",
        "\n",
        "#records[str(len(records))] = {'product' : records[ui_id]['name'] , 'quantity': ui_quantity , \"Billing amount\" : records[ui_id]['price']*ui_quantity , \"Date and Time\" : t }\n",
        "sales[str(len(sales))] = {'product' : records[ui_id]['name'] , 'quantity': ui_quantity , \"Billing amount\" : records[ui_id]['price']*ui_quantity , \"Date and Time\" : t }\n",
        "\n",
        "\n",
        "\n",
        "\n",
        "\n",
        "\n"
      ],
      "execution_count": 210,
      "outputs": [
        {
          "output_type": "stream",
          "name": "stdout",
          "text": [
            "Enter the product id:    116\n",
            "Enter the quantity you want to buy:       6\n",
            "***************************\n",
            "product: lays\n",
            "quantity bought 6\n",
            "Price: 30\n",
            "Category: chips\n",
            "Available Quantity: 200\n",
            "Expiry year: 2026\n",
            "****************************\n",
            "BILLING AMOUNT: 180 Rupees\n",
            "****************************\n"
          ]
        }
      ]
    },
    {
      "cell_type": "code",
      "metadata": {
        "id": "AY6_0KLuC7p6"
      },
      "source": [
        "#js = json.dumps(records)\n",
        "\n",
        "#fd = open(\"record.json\",'w')\n",
        "#fd.write(js)\n",
        "#fd.close()"
      ],
      "execution_count": 150,
      "outputs": []
    },
    {
      "cell_type": "markdown",
      "metadata": {
        "id": "DOQFgJ3uD63Z"
      },
      "source": [
        "##Sales"
      ]
    },
    {
      "cell_type": "code",
      "metadata": {
        "id": "w-jg-uNZEzox",
        "colab": {
          "base_uri": "https://localhost:8080/"
        },
        "outputId": "257441f4-0323-4ab7-fc55-17c80812b2be"
      },
      "source": [
        "sales"
      ],
      "execution_count": 219,
      "outputs": [
        {
          "output_type": "execute_result",
          "data": {
            "text/plain": [
              "{'0': {'Billing amount': 180,\n",
              "  'Date and Time': 'Mon Sep  6 10:03:26 2021',\n",
              "  'product': '5star',\n",
              "  'quantity': 6},\n",
              " '1': {'Billing amount': 500,\n",
              "  'Date and Time': 'Mon Sep  6 10:04:53 2021',\n",
              "  'product': 'haldirams_chips',\n",
              "  'quantity': 10},\n",
              " '2': {'Billing amount': 500,\n",
              "  'Date and Time': 'Mon Sep  6 10:13:51 2021',\n",
              "  'product': 'haldirams_chips',\n",
              "  'quantity': 10},\n",
              " '3': {'Billing amount': 200,\n",
              "  'Date and Time': 'Mon Sep  6 10:15:06 2021',\n",
              "  'product': 'kitkat',\n",
              "  'quantity': 5},\n",
              " '4': {'Billing amount': 480,\n",
              "  'Date and Time': 'Mon Sep  6 10:15:38 2021',\n",
              "  'product': 'Dairymilk_bubbly',\n",
              "  'quantity': 6},\n",
              " '5': {'Billing amount': 180,\n",
              "  'Date and Time': 'Mon Sep  6 10:16:11 2021',\n",
              "  'product': 'lays',\n",
              "  'quantity': 6}}"
            ]
          },
          "metadata": {},
          "execution_count": 219
        }
      ]
    },
    {
      "cell_type": "code",
      "metadata": {
        "id": "sGALFgabG4NZ"
      },
      "source": [
        "sale = json.dumps(sales)"
      ],
      "execution_count": 220,
      "outputs": []
    },
    {
      "cell_type": "code",
      "metadata": {
        "id": "KJmYE1xjG48G",
        "colab": {
          "base_uri": "https://localhost:8080/",
          "height": 139
        },
        "outputId": "7f3da898-b93e-4c72-eb18-6d3dfb630974"
      },
      "source": [
        "sale"
      ],
      "execution_count": 221,
      "outputs": [
        {
          "output_type": "execute_result",
          "data": {
            "application/vnd.google.colaboratory.intrinsic+json": {
              "type": "string"
            },
            "text/plain": [
              "'{\"0\": {\"product\": \"5star\", \"quantity\": 6, \"Billing amount\": 180, \"Date and Time\": \"Mon Sep  6 10:03:26 2021\"}, \"1\": {\"product\": \"haldirams_chips\", \"quantity\": 10, \"Billing amount\": 500, \"Date and Time\": \"Mon Sep  6 10:04:53 2021\"}, \"2\": {\"product\": \"haldirams_chips\", \"quantity\": 10, \"Billing amount\": 500, \"Date and Time\": \"Mon Sep  6 10:13:51 2021\"}, \"3\": {\"product\": \"kitkat\", \"quantity\": 5, \"Billing amount\": 200, \"Date and Time\": \"Mon Sep  6 10:15:06 2021\"}, \"4\": {\"product\": \"Dairymilk_bubbly\", \"quantity\": 6, \"Billing amount\": 480, \"Date and Time\": \"Mon Sep  6 10:15:38 2021\"}, \"5\": {\"product\": \"lays\", \"quantity\": 6, \"Billing amount\": 180, \"Date and Time\": \"Mon Sep  6 10:16:11 2021\"}}'"
            ]
          },
          "metadata": {},
          "execution_count": 221
        }
      ]
    },
    {
      "cell_type": "code",
      "metadata": {
        "id": "2KBirnY0wOsx"
      },
      "source": [
        "s = open(\"sales.json\",'w')\n",
        "s.write(sale)\n",
        "s.close()"
      ],
      "execution_count": 222,
      "outputs": []
    },
    {
      "cell_type": "code",
      "metadata": {
        "id": "NEVvLDnfZRG6"
      },
      "source": [
        ""
      ],
      "execution_count": 52,
      "outputs": []
    }
  ]
}